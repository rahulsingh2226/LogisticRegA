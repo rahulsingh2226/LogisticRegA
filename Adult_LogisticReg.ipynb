{
  "cells": [
    {
      "cell_type": "code",
      "execution_count": 6,
      "id": "a0a6e4a6",
      "metadata": {
        "colab": {
          "base_uri": "https://localhost:8080/"
        },
        "id": "a0a6e4a6",
        "outputId": "d0c1d8fb-e28f-483d-a84c-493ac65af97e"
      },
      "outputs": [
        {
          "output_type": "stream",
          "name": "stdout",
          "text": [
            "Confusion Matrix:\n",
            "[[2491 2421]\n",
            " [ 356 1244]]\n",
            "\n",
            "Accuracy: 0.5735565110565111\n",
            "F1 Score: 0.47255460588793924\n",
            "Precision: 0.33942701227830835\n",
            "Recall: 0.7775\n"
          ]
        }
      ],
      "source": [
        "\n",
        "import pandas as pd\n",
        "import numpy as np\n",
        "import matplotlib.pyplot as plt\n",
        "import seaborn as sns\n",
        "import warnings\n",
        "warnings.filterwarnings('ignore')\n",
        "import pickle\n",
        "\n",
        "data = pd.read_csv('/content/adult.data')\n",
        "\n",
        "data.head(2)\n",
        "#data speaks about people with income over 50k and less than 50k\n",
        "\n",
        "data['income'] = data[' <=50K'].astype(str).str.strip().str.lower().str.replace(r'[^a-z0-9><=]', '', regex=True)\n",
        "data['income'] = data['income'].replace({'<=50k': 0, '>50k': 1})\n",
        "\n",
        "file = open('/content/adult.pkl', 'rb')\n",
        "pre = pickle.load(file)\n",
        "\n",
        "data1 = data[[' Bachelors', ' Adm-clerical', ' White', ' Male']]\n",
        "a = pre.fit_transform(data1)\n",
        "data1 = pd.DataFrame(a)\n",
        "\n",
        "data['Gov'] = data[' State-gov'].apply(lambda x: 1 if x <= 'State-gov' else 0)\n",
        "data['Country'] = data[' United-States'].apply(lambda x: 1 if x <= 'United-States' else 0)\n",
        "\n",
        "data2 = data[['income', 'Gov', 'Country']]\n",
        "data3 = pd.concat([data1, data2], axis=1)\n",
        "\n",
        "data3.rename(columns={0:'Bachelors', 1:'Adm-clerical', 2:'White', 3:'Male'}, inplace=True)\n",
        "\n",
        "X = data3.drop(columns=['income'])\n",
        "Y = data3['income']\n",
        "\n",
        "# Train-test split\n",
        "from sklearn.model_selection import train_test_split\n",
        "X_train, X_test, Y_train, Y_test = train_test_split(X, Y, test_size=0.2, random_state=42)\n",
        "\n",
        "# Balancng data\n",
        "from sklearn.linear_model import LogisticRegression\n",
        "model = LogisticRegression(class_weight='balanced')\n",
        "model.fit(X_train, Y_train)\n",
        "\n",
        "y_pred = model.predict(X_test)\n",
        "\n",
        "from sklearn.metrics import accuracy_score, confusion_matrix, classification_report, f1_score, precision_score, recall_score\n",
        "\n",
        "print(\"Confusion Matrix:\")\n",
        "print(confusion_matrix(Y_test, y_pred))\n",
        "print(\"\\nAccuracy:\", accuracy_score(Y_test, y_pred))\n",
        "print(\"F1 Score:\", f1_score(Y_test, y_pred))\n",
        "print(\"Precision:\", precision_score(Y_test, y_pred))\n",
        "print(\"Recall:\", recall_score(Y_test, y_pred))\n"
      ]
    },
    {
      "cell_type": "code",
      "source": [],
      "metadata": {
        "id": "5glSDLRiHPfn"
      },
      "id": "5glSDLRiHPfn",
      "execution_count": null,
      "outputs": []
    }
  ],
  "metadata": {
    "colab": {
      "provenance": []
    },
    "language_info": {
      "name": "python"
    },
    "kernelspec": {
      "name": "python3",
      "display_name": "Python 3"
    }
  },
  "nbformat": 4,
  "nbformat_minor": 5
}